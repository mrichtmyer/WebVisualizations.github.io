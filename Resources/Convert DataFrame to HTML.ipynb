{
 "cells": [
  {
   "cell_type": "code",
   "execution_count": 1,
   "metadata": {},
   "outputs": [],
   "source": [
    "# load library\n",
    "import pandas as pd\n",
    "\n",
    "# read csv file\n",
    "df = pd.read_csv(\"cities.csv\")\n",
    "\n",
    "# convert to html\n",
    "html = df.to_html()\n",
    "\n",
    "#write html to file\n",
    "text_file = open(\"../html/cities_data.html\", \"w\")\n",
    "text_file.write(html)\n",
    "text_file.close()"
   ]
  }
 ],
 "metadata": {
  "kernelspec": {
   "display_name": "Python 3",
   "language": "python",
   "name": "python3"
  },
  "language_info": {
   "codemirror_mode": {
    "name": "ipython",
    "version": 3
   },
   "file_extension": ".py",
   "mimetype": "text/x-python",
   "name": "python",
   "nbconvert_exporter": "python",
   "pygments_lexer": "ipython3",
   "version": "3.7.3"
  }
 },
 "nbformat": 4,
 "nbformat_minor": 2
}
